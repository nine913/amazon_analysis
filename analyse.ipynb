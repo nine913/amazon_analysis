{
 "cells": [
  {
   "cell_type": "code",
   "execution_count": 1,
   "id": "6112b169",
   "metadata": {},
   "outputs": [],
   "source": [
    "import pandas as pd"
   ]
  },
  {
   "cell_type": "code",
   "execution_count": 2,
   "id": "066ffd0d",
   "metadata": {},
   "outputs": [],
   "source": [
    "desforestation = pd.read_csv(r'df/desforestation.csv')\n",
    "fire_incident = pd.read_csv(r'df/fire_incident.csv')\n",
    "forest_loss = pd.read_csv(r'df/forest_loss.csv')"
   ]
  },
  {
   "cell_type": "code",
   "execution_count": 3,
   "id": "db9cf7d3",
   "metadata": {},
   "outputs": [
    {
     "name": "stdout",
     "output_type": "stream",
     "text": [
      "<class 'pandas.core.frame.DataFrame'>\n",
      "RangeIndex: 16 entries, 0 to 15\n",
      "Data columns (total 11 columns):\n",
      " #   Column       Non-Null Count  Dtype\n",
      "---  ------       --------------  -----\n",
      " 0   Ano/Estados  16 non-null     int64\n",
      " 1   AC           16 non-null     int64\n",
      " 2   AM           16 non-null     int64\n",
      " 3   AP           16 non-null     int64\n",
      " 4   MA           16 non-null     int64\n",
      " 5   MT           16 non-null     int64\n",
      " 6   PA           16 non-null     int64\n",
      " 7   RO           16 non-null     int64\n",
      " 8   RR           16 non-null     int64\n",
      " 9   TO           16 non-null     int64\n",
      " 10  AMZ LEGAL    16 non-null     int64\n",
      "dtypes: int64(11)\n",
      "memory usage: 1.5 KB\n"
     ]
    }
   ],
   "source": [
    "desforestation.info()"
   ]
  },
  {
   "cell_type": "code",
   "execution_count": 4,
   "id": "b75b183f",
   "metadata": {},
   "outputs": [
    {
     "name": "stdout",
     "output_type": "stream",
     "text": [
      "<class 'pandas.core.frame.DataFrame'>\n",
      "RangeIndex: 2104 entries, 0 to 2103\n",
      "Data columns (total 6 columns):\n",
      " #   Column     Non-Null Count  Dtype  \n",
      "---  ------     --------------  -----  \n",
      " 0   year       2104 non-null   int64  \n",
      " 1   month      2104 non-null   int64  \n",
      " 2   state      2104 non-null   object \n",
      " 3   latitude   2104 non-null   float64\n",
      " 4   longitude  2104 non-null   float64\n",
      " 5   firespots  2104 non-null   int64  \n",
      "dtypes: float64(2), int64(3), object(1)\n",
      "memory usage: 98.8+ KB\n"
     ]
    }
   ],
   "source": [
    "fire_incident.info()"
   ]
  },
  {
   "cell_type": "code",
   "execution_count": 5,
   "id": "9ed4ace9",
   "metadata": {},
   "outputs": [
    {
     "name": "stdout",
     "output_type": "stream",
     "text": [
      "<class 'pandas.core.frame.DataFrame'>\n",
      "RangeIndex: 16 entries, 0 to 15\n",
      "Data columns (total 4 columns):\n",
      " #   Column      Non-Null Count  Dtype \n",
      "---  ------      --------------  ----- \n",
      " 0   start year  16 non-null     int64 \n",
      " 1   end year    16 non-null     int64 \n",
      " 2   phenomenon  16 non-null     object\n",
      " 3   severity    16 non-null     object\n",
      "dtypes: int64(2), object(2)\n",
      "memory usage: 644.0+ bytes\n"
     ]
    }
   ],
   "source": [
    "forest_loss.info()"
   ]
  },
  {
   "cell_type": "code",
   "execution_count": 6,
   "id": "e62c8b24",
   "metadata": {},
   "outputs": [
    {
     "name": "stdout",
     "output_type": "stream",
     "text": [
      "<class 'pandas.core.frame.DataFrame'>\n",
      "RangeIndex: 16 entries, 0 to 15\n",
      "Data columns (total 11 columns):\n",
      " #   Column     Non-Null Count  Dtype\n",
      "---  ------     --------------  -----\n",
      " 0   year       16 non-null     int64\n",
      " 1   AC         16 non-null     int64\n",
      " 2   AM         16 non-null     int64\n",
      " 3   AP         16 non-null     int64\n",
      " 4   MA         16 non-null     int64\n",
      " 5   MT         16 non-null     int64\n",
      " 6   PA         16 non-null     int64\n",
      " 7   RO         16 non-null     int64\n",
      " 8   RR         16 non-null     int64\n",
      " 9   TO         16 non-null     int64\n",
      " 10  AMZ LEGAL  16 non-null     int64\n",
      "dtypes: int64(11)\n",
      "memory usage: 1.5 KB\n"
     ]
    }
   ],
   "source": [
    "desforestation.rename(columns={'Ano/Estados': 'year'}, inplace=True)\n",
    "desforestation.info()"
   ]
  },
  {
   "cell_type": "code",
   "execution_count": 7,
   "id": "0f07188b",
   "metadata": {},
   "outputs": [],
   "source": [
    "desforestation['year'] = desforestation['year'].astype(int)"
   ]
  },
  {
   "cell_type": "code",
   "execution_count": 8,
   "id": "628ca6c2",
   "metadata": {},
   "outputs": [],
   "source": [
    "desforestation_long = desforestation.melt(\n",
    "    id_vars=['year'],\n",
    "    var_name='state_abbrev',\n",
    "    value_name='desforestation_km2'\n",
    ")"
   ]
  },
  {
   "cell_type": "code",
   "execution_count": 9,
   "id": "465e39cc",
   "metadata": {},
   "outputs": [
    {
     "name": "stdout",
     "output_type": "stream",
     "text": [
      "<class 'pandas.core.frame.DataFrame'>\n",
      "Index: 144 entries, 0 to 143\n",
      "Data columns (total 3 columns):\n",
      " #   Column              Non-Null Count  Dtype \n",
      "---  ------              --------------  ----- \n",
      " 0   year                144 non-null    int64 \n",
      " 1   state_abbrev        144 non-null    object\n",
      " 2   desforestation_km2  144 non-null    int64 \n",
      "dtypes: int64(2), object(1)\n",
      "memory usage: 4.5+ KB\n"
     ]
    }
   ],
   "source": [
    "desforestation_long = desforestation_long[desforestation_long['state_abbrev'] != 'AMZ LEGAL']\n",
    "desforestation_long.info()"
   ]
  },
  {
   "cell_type": "code",
   "execution_count": 10,
   "id": "9e8d651a",
   "metadata": {},
   "outputs": [],
   "source": [
    "mapping = {\n",
    "    \"ACRE\": \"AC\", \"AMAZONAS\": \"AM\", \"AMAPA\": \"AP\", \"MARANHAO\": \"MA\",\n",
    "    \"MATO GROSSO\": \"MT\", \"PARA\": \"PA\", \"RONDONIA\": \"RO\",\n",
    "    \"RORAIMA\": \"RR\", \"TOCANTINS\": \"TO\"\n",
    "}\n",
    "\n",
    "fire_incident['state_abbrev'] = fire_incident['state'].map(mapping)"
   ]
  },
  {
   "cell_type": "code",
   "execution_count": 11,
   "id": "412e2340",
   "metadata": {},
   "outputs": [],
   "source": [
    "fire_incident_group = fire_incident.groupby(['year', 'state_abbrev'])['firespots'].sum().reset_index()"
   ]
  },
  {
   "cell_type": "code",
   "execution_count": 12,
   "id": "7b7f561b",
   "metadata": {},
   "outputs": [
    {
     "data": {
      "text/html": [
       "<div>\n",
       "<style scoped>\n",
       "    .dataframe tbody tr th:only-of-type {\n",
       "        vertical-align: middle;\n",
       "    }\n",
       "\n",
       "    .dataframe tbody tr th {\n",
       "        vertical-align: top;\n",
       "    }\n",
       "\n",
       "    .dataframe thead th {\n",
       "        text-align: right;\n",
       "    }\n",
       "</style>\n",
       "<table border=\"1\" class=\"dataframe\">\n",
       "  <thead>\n",
       "    <tr style=\"text-align: right;\">\n",
       "      <th></th>\n",
       "      <th>year</th>\n",
       "      <th>state_abbrev</th>\n",
       "      <th>firespots</th>\n",
       "    </tr>\n",
       "  </thead>\n",
       "  <tbody>\n",
       "    <tr>\n",
       "      <th>0</th>\n",
       "      <td>1999</td>\n",
       "      <td>AC</td>\n",
       "      <td>347</td>\n",
       "    </tr>\n",
       "    <tr>\n",
       "      <th>1</th>\n",
       "      <td>1999</td>\n",
       "      <td>AM</td>\n",
       "      <td>1048</td>\n",
       "    </tr>\n",
       "    <tr>\n",
       "      <th>2</th>\n",
       "      <td>1999</td>\n",
       "      <td>AP</td>\n",
       "      <td>101</td>\n",
       "    </tr>\n",
       "    <tr>\n",
       "      <th>3</th>\n",
       "      <td>1999</td>\n",
       "      <td>MA</td>\n",
       "      <td>4136</td>\n",
       "    </tr>\n",
       "    <tr>\n",
       "      <th>4</th>\n",
       "      <td>1999</td>\n",
       "      <td>MT</td>\n",
       "      <td>28538</td>\n",
       "    </tr>\n",
       "    <tr>\n",
       "      <th>...</th>\n",
       "      <td>...</td>\n",
       "      <td>...</td>\n",
       "      <td>...</td>\n",
       "    </tr>\n",
       "    <tr>\n",
       "      <th>184</th>\n",
       "      <td>2019</td>\n",
       "      <td>MT</td>\n",
       "      <td>17479</td>\n",
       "    </tr>\n",
       "    <tr>\n",
       "      <th>185</th>\n",
       "      <td>2019</td>\n",
       "      <td>PA</td>\n",
       "      <td>29700</td>\n",
       "    </tr>\n",
       "    <tr>\n",
       "      <th>186</th>\n",
       "      <td>2019</td>\n",
       "      <td>RO</td>\n",
       "      <td>11206</td>\n",
       "    </tr>\n",
       "    <tr>\n",
       "      <th>187</th>\n",
       "      <td>2019</td>\n",
       "      <td>RR</td>\n",
       "      <td>4775</td>\n",
       "    </tr>\n",
       "    <tr>\n",
       "      <th>188</th>\n",
       "      <td>2019</td>\n",
       "      <td>TO</td>\n",
       "      <td>247</td>\n",
       "    </tr>\n",
       "  </tbody>\n",
       "</table>\n",
       "<p>189 rows × 3 columns</p>\n",
       "</div>"
      ],
      "text/plain": [
       "     year state_abbrev  firespots\n",
       "0    1999           AC        347\n",
       "1    1999           AM       1048\n",
       "2    1999           AP        101\n",
       "3    1999           MA       4136\n",
       "4    1999           MT      28538\n",
       "..    ...          ...        ...\n",
       "184  2019           MT      17479\n",
       "185  2019           PA      29700\n",
       "186  2019           RO      11206\n",
       "187  2019           RR       4775\n",
       "188  2019           TO        247\n",
       "\n",
       "[189 rows x 3 columns]"
      ]
     },
     "execution_count": 12,
     "metadata": {},
     "output_type": "execute_result"
    }
   ],
   "source": [
    "fire_incident_group"
   ]
  },
  {
   "cell_type": "code",
   "execution_count": 13,
   "id": "969687ed",
   "metadata": {},
   "outputs": [],
   "source": [
    "year_el_nino = set()\n",
    "for i, row in forest_loss.iterrows():\n",
    "    year_el_nino.update(range(int(row['start year']), int(row['end year']) + 1))\n",
    "\n",
    "desforestation_long['el_nino'] = desforestation_long['year'].isin(year_el_nino)\n",
    "fire_incident_group['el_nino'] = fire_incident_group['year'].isin(year_el_nino)"
   ]
  },
  {
   "cell_type": "code",
   "execution_count": 14,
   "id": "6b0bc6e8",
   "metadata": {},
   "outputs": [],
   "source": [
    "desforestation_long.to_csv('new_desforestation.csv', index=False)\n",
    "fire_incident_group.to_csv('new_fire_incident.csv', index=False)"
   ]
  }
 ],
 "metadata": {
  "kernelspec": {
   "display_name": "base",
   "language": "python",
   "name": "python3"
  },
  "language_info": {
   "codemirror_mode": {
    "name": "ipython",
    "version": 3
   },
   "file_extension": ".py",
   "mimetype": "text/x-python",
   "name": "python",
   "nbconvert_exporter": "python",
   "pygments_lexer": "ipython3",
   "version": "3.11.7"
  }
 },
 "nbformat": 4,
 "nbformat_minor": 5
}
